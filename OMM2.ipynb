{
 "cells": [
  {
   "cell_type": "markdown",
   "metadata": {},
   "source": [
    "# Условие задачи\n",
    "\n",
    "Используя метод переменных направлений, решить краевую задачу для неоднородного уравнения теплопроводности в прямогоульной области:\n",
    "\n",
    "$$\\begin{cases}\n",
    "\\frac{\\partial u}{\\partial t} = 4\\Delta u ,~~ 0<x<10, ~~0<y<5, ~~ t>0 \\\\\n",
    "u\\vert _{x=0} = u\\vert _{x=10} = 0,\\\\\n",
    "\\frac{\\partial u}{\\partial y}\\vert _{y=0} = \\frac{\\partial u}{\\partial y}\\vert _{y=5} = 0,\\\\\n",
    "u\\vert _{t=0} = \\sin(\\pi x)\\cos(2\\pi y)\n",
    "\\end{cases}\n",
    "$$\n"
   ]
  },
  {
   "cell_type": "markdown",
   "metadata": {},
   "source": [
    "# Аналитическое решение\n",
    "Будем искать решение системы в виде:\n",
    "$$u(x,y,t)=\\sum_{n,m=0}^\\infty T_{nm}(t)V_{nm}(x,y).$$\n",
    "Тогда в результате разделения переменных получим, что явный вид функций Vmn(x,y) и Tmn(t) определяется из решений соответствующей задачи Штурма-Лиувилля и задачи Коши:\n",
    "\n",
    "$\\begin{cases}\n",
    "T^{'}+4 \\lambda T=0,\\\\\n",
    "T(0)=\\sin(\\pi x)\\cos(2\\pi y)\n",
    "\\end{cases}\n",
    "$\n",
    "\n",
    "$\\begin{cases}\n",
    "\\Delta V+ \\lambda V=0,\\\\\n",
    "V\\vert _{x=0} = V\\vert _{x=10} = 0,\\\\\n",
    "\\frac{\\partial V}{\\partial y}\\vert _{y=0} = \\frac{\\partial V}{\\partial y}\\vert _{y=5} = 0\n",
    "\\end{cases}\n",
    "$\n",
    "\n",
    "Повторно разделяя переменные для $V(x,y)=X(x)Y(y) \\neq 0$, приходим к двум задачам Штурма-Лиувилля:\n",
    "\n",
    "$\\begin{cases}\n",
    "Y^{''}+ \\mu Y=0,\\\\\n",
    "Y^{'}\\vert _{y=0} = Y^{'}\\vert _{y=5} = 0\n",
    "\\end{cases}\n",
    "$\n",
    ",\n",
    "$\\begin{cases}\n",
    "X^{''}+ \\kappa X=0,\\\\\n",
    "X^{'}\\vert _{x=0} = X^{'}\\vert _{x=10} = 0\n",
    "\\end{cases}\n",
    "$\n",
    ", решение которых имеет вид:\n",
    "\n",
    "\n",
    "$\\begin{cases}\n",
    "Y=cos(\\sqrt{\\mu}y),\\\\\n",
    "\\mu=(\\frac{\\pi m}{5})^2\n",
    "\\end{cases}\n",
    "$\n",
    "и\n",
    "$\\begin{cases}\n",
    "X=sin(\\sqrt{\\kappa}x),\\\\\n",
    "\\kappa=(\\frac{\\pi n}{10})^2\n",
    "\\end{cases}\n",
    "$\n",
    ", где $\\kappa = \\lambda - \\mu$.\n",
    "\n",
    "Преступим к решению задачи Коши. Использовав известное из курса ММФ выражение, получим $T=e^{-20 \\pi^2 t}$ Тогда решение начально-краевой задачи с однородными граничными условиями можно записать в виде: $u(x,y,t)=sin(\\pi x)cos(2 \\pi y)e^{-20 \\pi^2 t}$."
   ]
  },
  {
   "cell_type": "markdown",
   "metadata": {},
   "source": [
    "# Численное решение\n",
    "## Сетка\n",
    "Введем в расчетной области равномерную сетку:\n",
    "$$\n",
    "x_i = ih_x, ~~ i = 0, 1, ..., N_x, ~~ N_xh_x = 1 \\\\\n",
    "y_j = mh_y, ~~ j = 0, 1, ..., N_y, ~~ N_yh_y = 1 \\\\\n",
    "t_k = k\\tau, ~~ k = 0, 1, ..., N_\\tau, ~~ N_\\tau\\tau = T\n",
    "$$\n",
    "На данной сетке будем рассматривать сеточные функции $w^{k}_{i,j} = u(x_i,y_j,t_k)$"
   ]
  },
  {
   "cell_type": "markdown",
   "metadata": {},
   "source": [
    "Теперь введем разностную аппроксимацию оператора Лапласа:$\\Lambda \\omega=\\Lambda_1 \\omega + \\Lambda_2 \\omega$, где $$\\Lambda_1 \\omega = \\frac{\\omega_{i-1,j}-2\\omega_{i,j}+\\omega_{i+1,j}}{h^2_x};   \\Lambda_2 \\omega = \\frac{\\omega_{i,j-1}-2\\omega_{i,j}+\\omega_{i,j+1}}{h^2_y}. $$"
   ]
  },
  {
   "cell_type": "markdown",
   "metadata": {},
   "source": [
    "Тогда уравнение для сеточной функции $w^{k}_{i,j}$ будет иметь вид: $\\frac{w^{k+1}-w^{k}}{\\tau}=\\Lambda(\\sigma w^{k+1}+(1-\\sigma)w^{k}).$\n",
    "\n",
    "Начальные и граничные условия для функции $w^{k}_{i,j}$ записываются в виде $w^{0}_{i,j}=sin(\\pi x)cos(2 \\pi y)$ и $\\frac{w_{i,1}-w_{i,0}}{h_y}=0,\\frac{w_{i,N_y}-w_{i,N_y-1}}{h_y}=0; w_{0,j}=0, w_{N_x,j}=0$ для всех $i=0...N_x,j=0...N_y.$"
   ]
  },
  {
   "cell_type": "markdown",
   "metadata": {},
   "source": [
    "## Метод переменных направлений\n",
    "Рассмотрим различные варианты выбора параметра $\\sigma$:\n",
    "\n",
    "1) Явная схема $\\sigma = 0$, как известно, условно устойчива. Число операций необходимых для\n",
    "перехода на новый слой $w^{k+1}$ пропорционально числу узлов сетки: $ Q_{яв}=\\underline{\\underline{O}} \\Big( \\frac{1}{h_xh_y}\\Big)$ \n",
    "\n",
    "2) Невная схема $\\sigma = 1$ – безусловная устойчивость. Чтобы определить $w^{k+1}$ нужно решать систему уравнений, число которых пропорционально числу узлов сетки: $ Q_{неяв}=\\underline{\\underline{O}} \\Big( \\frac{1}{h_xh_y}\\Big)$ \n",
    "\n",
    "3) Схема переменных направлений (экономичная разностная): безусловно устойчива, а число\n",
    "операций, требуемое для перехода со слоя на слой пропорционально числу узлов сетки. То есть\n",
    "схема переменных направлений сочетает в себе достоинства явной и неявной схем.\n",
    "\n",
    "В схеме переменных направлений переход со слоя на слой осуществляется в два шага, с\n",
    "помощью вычисления промежуточного слоя. Разностная аппроксимация уравнения имеет вид: "
   ]
  },
  {
   "cell_type": "markdown",
   "metadata": {},
   "source": [
    "$$\\frac{w^{k+1/2}-w^{k}}{0.5 \\tau}=\\Lambda_1w^{k+1/2}+\\Lambda_2w^{k};\n",
    "\\frac{w^{k+1}-w^{k+1/2}}{0.5 \\tau}=\\Lambda_1w^{k+1/2}+\\Lambda_2w^{k+1}$$"
   ]
  },
  {
   "cell_type": "markdown",
   "metadata": {},
   "source": [
    "Переход от слоя $k$ к слою $k+1$ совершается в два этапа с шагом $\\frac{\\tau}{2}$ : сначала решается первое уравнение, являющееся неявным по направлению х и явным по направлению у, а затем уравнение второе,\n",
    "которое является явным по направлению х и неявным по направлению y. \n",
    "При решении в обоих\n",
    "случаях используется метод прогонки. Значение сеточной функции на промежуточном слое\n",
    "играет вспомогательную роль.\n",
    "Перепишем систему в более удобном виде:"
   ]
  },
  {
   "cell_type": "markdown",
   "metadata": {},
   "source": [
    "$$\n",
    "\\begin{cases}\n",
    "\\frac{0.5 \\tau}{h^2_x}u^{k+1/2}_{i+1,j}-\\Big(1+\\frac{\\tau}{h^2_x}\\Big)u^{k+1/2}_{i,j}+\n",
    "\\frac{0.5 \\tau}{h^2_x}u^{k+1/2}_{i-1,j}=-F^{k+1/2}_{i,j} ,\\\\\n",
    "F^{k+1/2}_{i,j}=\\frac{0.5 \\tau}{h^2_y}(u^{k}_{i,j-1}+u^{k}_{i,j+1})+\n",
    "\\Big(1-\\frac{\\tau}{h^2_y}\\Big)u^{k}_{i,j}  ,\\\\\n",
    "u^k_{0,j}=u^k_{N_x,j}=0 .\n",
    "\\end{cases}\n",
    "$$"
   ]
  },
  {
   "cell_type": "markdown",
   "metadata": {},
   "source": [
    "Подобная система решается методом прогонки при каждом фиксированном $j=1…N_y-1$. При $j=0$\n",
    "и $j=N_y$ значение функции находим из включенных в задачу граничных условий. В результате\n",
    "получаем значение рассматриваемой функции на $k+1/2$ вспомогательном слое. \n",
    "\n",
    "Чтобы осуществить переход на $k+1$ слой, рассмотрим систему, аналогичную системе выше:"
   ]
  },
  {
   "cell_type": "markdown",
   "metadata": {},
   "source": [
    "$$\n",
    "\\begin{cases}\n",
    "\\frac{0.5 \\tau}{h^2_y}u^{k+1}_{i,j+1}-\\Big(1+\\frac{\\tau}{h^2_y}\\Big)u^{k+1}_{i,j}+\n",
    "\\frac{0.5 \\tau}{h^2_y}u^{k+1}_{i,j-1}=-F^{k+1}_{i,j} ,\\\\\n",
    "F^{k+1}_{i,j}=\\frac{0.5 \\tau}{h^2_x}(u^{k+1/2}_{i+1,j}+u^{k+1/2}_{i-1,j})+\n",
    "\\Big(1-\\frac{\\tau}{h^2_x}\\Big)u^{k+1/2}_{i,j}  ,\\\\\n",
    "\\frac{u^{k}_{i,1}-u^{k}_{i,0}}{h_y}=0 ,\\\\\n",
    "\\frac{u^{k}_{i,N_y}-u^{k}_{i,N_y-1}}{h_y}=0 .\n",
    "\\end{cases}\n",
    "$$"
   ]
  },
  {
   "cell_type": "markdown",
   "metadata": {},
   "source": [
    "Эта система также решается методом прогонки, но уже при фиксированном $i=1…N-1$, при $i=0$ и\n",
    "$i=N_y$ значение функции находим из включенных в задачу граничных условий. В результате\n",
    "получаем значение функции на интересующем нас k+1 временном слое.\n",
    "\n",
    "Полученные выше системы образуют задачу, которая решается методом прогонки. Однако\n",
    "для начала проверим, является ли полученная разностная схема экономичной."
   ]
  },
  {
   "cell_type": "markdown",
   "metadata": {},
   "source": [
    "## Устойчивость\n",
    "Исследуем устойчивость схемы переменных направлений по начальным данным с помощью\n",
    "спектрального критерий Неймана. Система из двух разностных уравнений, реализующих метод\n",
    "переменных направлений в случае нулевой правой части:"
   ]
  },
  {
   "cell_type": "markdown",
   "metadata": {},
   "source": [
    "$$\n",
    "\\begin{cases}\n",
    "\\frac{0.5 \\tau}{h^2_x}u^{k+1/2}_{i+1,j}-\\Big(1+\\frac{\\tau}{h^2_x}\\Big)u^{k+1/2}_{i,j}+\n",
    "\\frac{0.5 \\tau}{h^2_x}u^{k+1/2}_{i-1,j}=0 ,\\\\\n",
    "\\frac{0.5 \\tau}{h^2_y}u^{k+1}_{i,j+1}-\\Big(1+\\frac{\\tau}{h^2_y}\\Big)u^{k+1}_{i,j}+\n",
    "\\frac{0.5 \\tau}{h^2_y}u^{k+1}_{i,j-1}=0 .\n",
    "\\end{cases}\n",
    "$$"
   ]
  },
  {
   "cell_type": "markdown",
   "metadata": {},
   "source": [
    "Будем Будем искать решение в виде: \n",
    "$$\n",
    "\\begin{cases}\n",
    "u^{k+1/2}_{n,m}=\\lambda_1^{k+1} \\lambda_1^k e^{i \\alpha n+i\\beta m} ,\\\\\n",
    "u^{k+1}_{n,m}=\\lambda_1^{k+1} \\lambda_1^{k+1} e^{i \\alpha n+i\\beta m} .\n",
    "\\end{cases}\n",
    "$$"
   ]
  },
  {
   "cell_type": "markdown",
   "metadata": {},
   "source": [
    "Подстановкой и последующим преобразованием найдем: \n",
    "$$\\lambda_1 = \\frac{1-\\frac{2\\tau}{h^2_y}sin^2(\\frac{\\beta}{2})}{1+\\frac{2\\tau}{h^2_x}sin^2(\\frac{\\alpha}{2})}, \\lambda_2 = \\frac{1-\\frac{2\\tau}{h^2_x}sin^2(\\frac{\\alpha}{2})}{1+\\frac{2\\tau}{h^2_y}sin^2(\\frac{\\beta}{2})} \\rightarrow |\\lambda_1\\lambda_1|=\\Bigg|\\frac{1-\\frac{2\\tau}{h^2_y}sin^2(\\frac{\\beta}{2})}{1+\\frac{2\\tau}{h^2_x}sin^2(\\frac{\\alpha}{2})}\\cdot \\frac{1-\\frac{2\\tau}{h^2_x}sin^2(\\frac{\\alpha}{2})}{1+\\frac{2\\tau}{h^2_y}sin^2(\\frac{\\beta}{2})} \\Bigg| \\leq 1 \\: \\forall \\alpha, \\beta, T$$\n",
    "\n",
    "Tаким образом, схема безусловно устойчива."
   ]
  },
  {
   "cell_type": "markdown",
   "metadata": {},
   "source": [
    "## Порядок аппроксимации\n",
    "Найдем порядок аппроксимации используемой разностной схемы. Для этого разложим в\n",
    "ряд Тейлора до соответствующих порядков производные по времени и координатам и\n",
    "используем используемые аппроксимации производных:"
   ]
  },
  {
   "cell_type": "markdown",
   "metadata": {},
   "source": [
    "$$u^{k+1}=u^{k+1/2}+\\frac{\\tau}{2}u_t^{k+1/2}+\\frac{\\tau^2}{2\\cdot 4}u_{tt}^{k+1/2}+\\frac{\\tau^3}{6\\cdot 8}u_{ttt}^{k+1/2}+\\underline{\\underline{O}}(\\tau^4)\n",
    "$$\n",
    "$$u^{k}=u^{k+1/2}+\\frac{\\tau}{2}u_t^{k+1/2}+\\frac{\\tau^2}{2\\cdot 4}u_{tt}^{k+1/2}+\\frac{\\tau^3}{6\\cdot 8}u_{ttt}^{k+1/2}+\\underline{\\underline{O}}(\\tau^4)$$"
   ]
  },
  {
   "cell_type": "markdown",
   "metadata": {},
   "source": [
    "Тогда аппроксимация по времени производной по времени в точке $t^{k+1/2}$ примет вид:\n",
    "$$\\frac{u^{k+1}-u^k}{\\tau}=\\tau u^{k+1/2} +\\frac{\\tau^3}{3\\cdot 8}u_{ttt}^{k+1/2}+\\underline{\\underline{O}}(\\tau^4)=u^{k+1/2}_t +\\frac{\\tau^2}{3\\cdot 8}u_{ttt}^{k+1/2}+\\underline{\\underline{O}}(\\tau^3)=u^{k+1/2}_t+\\underline{\\underline{O}}(\\tau^2).$$"
   ]
  },
  {
   "cell_type": "markdown",
   "metadata": {},
   "source": [
    "Получим выражение для аппроксимации производной по координате:\n",
    "$$u_{l+1}=u_l+h_l u_l^{'}+\\frac{1}{2} h_l^2 u_l^{''}+\\frac{1}{6}h_l^3 u_l^{'''}+\\frac{1}{24}h_l^4 u_l^{''''}+\\underline{\\underline{O}}(h_l^5)$$\n",
    "$$u_{l-1}=u_l-h_l u_l^{'}+\\frac{1}{2}h_l^2 u_l^{''}-\\frac{1}{6}h_l^3 u_l^{'''}+\\frac{1}{24}h_l^4 u_l^{''''}+\\underline{\\underline{O}}(h_l^5)$$"
   ]
  },
  {
   "cell_type": "markdown",
   "metadata": {},
   "source": [
    "Тогда аппроксимация по времени производной по времени в точке $x_l$ примет вид:"
   ]
  },
  {
   "cell_type": "markdown",
   "metadata": {},
   "source": [
    "$$\\frac{u_{l+1}-2u_l+u_{l-1}}{h^2_l}=\\frac{1}{h^2_l}\\Big(h^2_l u_{l}^{''} +\\frac{1}{12}h^4_l u_{l}^{''''}+\\underline{\\underline{O}}(h_l^5)\\Big)= u_{l}^{''} +\\frac{1}{12}h^2_l u_{l}^{''''}+\\underline{\\underline{O}}(h_l^3)=u_{l}^{''}+\\underline{\\underline{O}}(h_l^2), \\: l=x,y.$$"
   ]
  },
  {
   "cell_type": "markdown",
   "metadata": {},
   "source": [
    "По определению, погрешность аппроксимации разностной схемы $L^{\\tau}_h[u]=0$ в точке $\\big(x_n,y_m,t^{k+1/2}\\big)$ имеет вид: $\\Psi\\big(x_n,y_m,t^{k+1/2}\\big)=\\big(L[u]-L^{\\tau}_h[u]\\big)_{\\big(x_n,y_m,t^{k+1/2}\\big)}.$"
   ]
  },
  {
   "cell_type": "markdown",
   "metadata": {},
   "source": [
    "Для нашей разностной схемы мы получим, что:\n",
    "$$\n",
    "L^{\\tau}_h[u]=\\big(\\frac{\\partial u}{\\partial t} -\\Delta u\\big)\\big|_{\\big(x_n,y_m,t^{k+1/2}\\big)}+\\underline{\\underline{O}}(\\tau^2)+\\underline{\\underline{O}}(h_x^2)+\\underline{\\underline{O}}(h_y^2)\n",
    "\\rightarrow\n",
    "\\Psi\\big(x_n,y_m,t^{k+1/2}\\big)=\\underline{\\underline{O}}(\\tau^2)+\\underline{\\underline{O}}(h_x^2)+\\underline{\\underline{O}}(h_y^2).\n",
    "$$"
   ]
  },
  {
   "cell_type": "markdown",
   "metadata": {},
   "source": [
    "# Метод прогонки\n",
    "Рассмотрим первый полуслой и будем решать задачу методом прогонки. Пусть имеется\n",
    "уравнение с начальными и граничными условиями:"
   ]
  },
  {
   "cell_type": "markdown",
   "metadata": {},
   "source": [
    "$$\\begin{cases}\n",
    "A_iy_{i-1}-C_iy_i+B_iy_{i+1}=-F_i , \\\\\n",
    "y_0=\\alpha_1y_1+\\beta_1 ,\\\\\n",
    "y_N=\\alpha_2y_{N-1}+\\beta_2\n",
    "\\end{cases}\n",
    ", где |C_i|>|A_i|+|B_i|,\\:0<\\alpha_{1,2}<1,\\:i=1... N.\n",
    "$$"
   ]
  },
  {
   "cell_type": "markdown",
   "metadata": {},
   "source": [
    "Пусть значения исходной функции в двух соседних точках связаны следующим соотношением:\n",
    "$\n",
    "y_i=d_iy_i+\\delta_i\n",
    "$"
   ]
  },
  {
   "cell_type": "markdown",
   "metadata": {},
   "source": [
    "Подставляя, последовательно исключим $y_{i-1}$ и $y_i$:\n",
    "$[d_{i+1}(A_id_i-C_i)+B_i]y_{i+1}=-F_i-A_i\\delta_i-(A_id_i-C_i)\\delta_{i+1}.$"
   ]
  },
  {
   "cell_type": "markdown",
   "metadata": {},
   "source": [
    "Для того, чтобы это соотношение было тождественно верно нужно, чтобы выражение в\n",
    "квадратных скобках и правая часть были равны нулю. Тогда получим рекуррентные формулы\n",
    "для определения прогоночных коэффициентов:\n",
    "\n",
    "$$\\delta_{i+1}=\\frac{F_i+A_i\\delta_i}{C_i-A_id_i},\\:\\:d_{i+1}=\\frac{B_i}{C_i-A_id_i}.$$"
   ]
  },
  {
   "cell_type": "markdown",
   "metadata": {},
   "source": [
    "Сравнивая при $i=1$, получим $\\alpha_1=d_1, \\delta_1=\\beta_1.$\n",
    "\n",
    "Используя эти значения, совершим прогонку в направлении возрастания индекса,\n",
    "последовательно определяя значения коэффициентов $d_i,\\delta_i$ для $i=1…N$.\n",
    "На правом конце в этом случае будем иметь схожие рекуррентные соотношения для $y_{N-1}$ и\n",
    "$y_N$. Из этих соотношений получаем: $y_N=\\frac{\\alpha_2\\delta_N+\\beta_2}{1-\\alpha_2d_N}.$"
   ]
  },
  {
   "cell_type": "markdown",
   "metadata": {},
   "source": [
    "При $d_1=\\alpha_1$ и условиях, наложенных при постановке задачи получаем, что все $d_i<1$\n",
    "для $i=2…N$. Учитывая, что $\\alpha_2<1$\n",
    "получаем, что знаменатель положителен, а значит\n",
    "значение $y_N$ определено.\n",
    "Используя найденное значение $y_N$, делаем обратную прогонку в сторону уменьшения значения\n",
    "индекса, последовательно определяя все значение y_i."
   ]
  },
  {
   "cell_type": "markdown",
   "metadata": {},
   "source": [
    "## Достаточные условия применимости метода прогонки\n",
    "Выпишем уравнения и граничные условия, для которых мы собираемся применить метод\n",
    "прогонки:"
   ]
  },
  {
   "cell_type": "markdown",
   "metadata": {},
   "source": [
    "$$\n",
    "\\begin{cases}\n",
    "\\frac{4 \\cdot 0.5 \\tau}{h^2_x}u^{k+1/2}_{n+1,m}-\\Big(1+\\frac{4\\tau}{h^2_x}\\Big)u^{k+1/2}_{n,m}+\n",
    "\\frac{4\\cdot 0.5 \\tau}{h^2_x}u^{k+1/2}_{n-1,m}=-F^{k+1/2}_{n,m} ,\\\\\n",
    "u^k_{0,m}=u^k_{N_x,m}=0 .\n",
    "\\end{cases}\n",
    "$$"
   ]
  },
  {
   "cell_type": "markdown",
   "metadata": {},
   "source": [
    "$$\n",
    "\\begin{cases}\n",
    "\\frac{4\\cdot0.5 \\tau}{h^2_y}u^{k+1}_{n,m+1}-\\Big(1+\\frac{4\\tau}{h^2_y}\\Big)u^{k+1}_{n,m}+\n",
    "\\frac{4\\cdot0.5 \\tau}{h^2_y}u^{k+1}_{n,m-1}=-F^{k+1}_{n,m} ,\\\\\n",
    "\\frac{u^{k}_{n,1}-u^{k}_{n,0}}{h_y}=\n",
    "\\frac{u^{k}_{n,N_y}-u^{k}_{n,N_y-1}}{h_y}=0 .\n",
    "\\end{cases}\n",
    "$$"
   ]
  },
  {
   "cell_type": "markdown",
   "metadata": {},
   "source": [
    "Сделаем замену (для удобства неизменяющиеся индексы опущены): \n",
    "$$\n",
    "\\begin{cases}\n",
    "A_n=B_n=\\frac{4\\cdot0.5 \\tau}{h^2_x},\\:C_n=\\Big(1+\\frac{4\\tau}{h^2_x}\\Big),\\:F_n=-F^{k+1}_{n,m} ,\\\\\n",
    "A_m=B_m=\\frac{4\\cdot0.5 \\tau}{h^2_y},\\:C_m=\\Big(1+\\frac{4\\tau}{h^2_y}\\Big),\\:F_m=-F^{k+1}_{n,m} .\n",
    "\\end{cases}\n",
    "$$"
   ]
  },
  {
   "cell_type": "markdown",
   "metadata": {},
   "source": [
    "Тогда исходные системы примут вид: \n",
    "$$\n",
    "\\begin{cases}\n",
    "A_ny_{n-1}-C_ny_n+B_ny_{n+1}=-F_n ,\\\\\n",
    "y_0=y_N .\n",
    "\\end{cases}\n",
    ";\\:\\:\n",
    "\\begin{cases}\n",
    "A_my_{m-1}-C_my_m+B_my_{m+1}=-F_m ,\\\\\n",
    "y_0=y_1 ,\\\\\n",
    "y_{N_y}=y_{N_y-1} .\n",
    "\\end{cases}\n",
    "$$"
   ]
  },
  {
   "cell_type": "markdown",
   "metadata": {},
   "source": [
    "Проверим достаточное условие применимости метода прогонки: \n",
    "\n",
    "$|C_i|>|A_i|+|B_i|,\\:0<\\alpha_{1,2}<1,\\:i=1... N.$\n",
    "\n",
    "Из системы выше видно, что эти условия выполняются для обеих\n",
    "систем. Таким образом, для нашей разностной схемы, которая применяется для численного\n",
    "решения исходной задачи, выполнено достаточное условие применимости метода прогонки."
   ]
  },
  {
   "cell_type": "markdown",
   "metadata": {},
   "source": [
    "# Код программы в среде MatLab\n",
    "\n",
    "### Cоздаем сетку\n",
    "\n",
    "clear all;\n",
    "\n",
    "x0 = 0; \n",
    "\n",
    "xN = 10;\n",
    "\n",
    "y0 = 0; yN = 5;\n",
    "\n",
    "t0 = 0; tN = 0.01;\n",
    "\n",
    "### Количество узлов\n",
    "\n",
    "N1 = 500; N2 = 500; Nt = 200;\n",
    "\n",
    "### Шаги сетки\n",
    "\n",
    "h1 = (xN-x0)/(N1-1); h2 = (yN-y0)/(N2-1); tau = (tN-t0)/(Nt-1);\n",
    "\n",
    "### Одномерные сетки\n",
    "\n",
    "x_grid = linspace(x0, xN, N1); y_grid = linspace(y0, yN, N2); t_grid = linspace(t0, tN, Nt);\n",
    "\n",
    "### Сетки для вывода u(x, y) при t = const\n",
    "\n",
    "x_mesh = zeros(N2, N1);\n",
    "\n",
    "for p = 1:N2\n",
    "\n",
    "x_mesh(p, :) = x_grid;\n",
    "\n",
    "end\n",
    "\n",
    "y_mesh = zeros(N2, N1);\n",
    "\n",
    "for p = 1:N1\n",
    "\n",
    "y_mesh(:, p) = y_grid';\n",
    "\n",
    "end\n",
    "\n",
    "### Массив для сохранения профиля u(y, t)\n",
    "\n",
    "u_x = zeros(N2, Nt);\n",
    "\n",
    "### Задаем начальное условие\n",
    "\n",
    "u0 = sin(pi*x_mesh).*cos(2*pi*y_mesh);\n",
    "\n",
    "### Вывод аналитического решения\n",
    "\n",
    "f1 = figure(1);\n",
    "\n",
    "surf(x_mesh, y_mesh, u0, 'LineStyle', 'none');\n",
    "\n",
    "title('При t=0');\n",
    "\n",
    "xlabel('x'); ylabel('y'); zlabel('u');\n",
    "\n",
    "colorbar;\n",
    "\n",
    "axis([0, 10, 0, 5, -2, 2]);\n",
    "\n",
    "f2 = figure(2);\n",
    "\n",
    "surf(x_mesh, y_mesh, u0*exp(-20*pi*pi*tN), 'LineStyle', 'none');\n",
    "\n",
    "title('Аналитическое решение');\n",
    "\n",
    "xlabel('x'); ylabel('y'); zlabel('u');\n",
    "\n",
    "colorbar;\n",
    "\n",
    "axis([0, 10, 0, 5, -0.5, 0.5]);\n",
    "\n",
    "### Реализация метода прогонки\n",
    "\n",
    "u_j = u0; -- начальное условие\n",
    "\n",
    "u_half = zeros(N2, N1); -- половинный слой - граничные условия выполняются автоматически\n",
    "\n",
    "u_j1 = zeros(N2, N1); -- cледующий слой\n",
    "\n",
    "d_y = zeros(1, N2); -- векторы прогоночных коэффициентов по y\n",
    "\n",
    "sigma_y = zeros(1, N2);\n",
    "\n",
    "d_x = zeros(1, N1); -- векторы прогоночных коэффициентов по x\n",
    "\n",
    "sigma_x = zeros(1, N1);\n",
    "\n",
    "### Постоянные коэффициенты для прогонки по y и x\n",
    "\n",
    "A = 1;\n",
    "\n",
    "C_y = 2*(1 + h2*h2/(4*tau));\n",
    "\n",
    "C_x = 2*(1 + h1*h1/(4*tau));\n",
    "\n",
    "B = 1;\n",
    "\n",
    "for t_cnt = 1:Nt\n",
    "\n",
    "### Сканируем по x, прогонка по y\n",
    "\n",
    "for m = 2:N2 - 1\n",
    "\n",
    "### Прогонка по y и переход к половинному слою\n",
    "\n",
    "d_y(1) = 1; sigma_y(1) = 0;\n",
    "\n",
    "for n = 1:N1\n",
    "\n",
    "### Здесь внимательно с индексами - 1 строка, 2 столбец\n",
    "\n",
    "Fn = (h2/h1)^2*(u_j(n, m+1) - 2*u_j(n, m) + u_j(n, m-1)) + 2*h2^2/(4*tau)*u_j(n, m);\n",
    "\n",
    "d_y(n+1) = B/(C_y - A*d_y(n)); sigma_y(n+1) = (Fn + A*sigma_y(n))/( - A*d_y(n) + C_y);\n",
    "\n",
    "end\n",
    "\n",
    "for n = 1:N1-1\n",
    "\n",
    "### Начинаем разворачивать коэффициенты и находить новый слой\n",
    "\n",
    "u_half(N1,m) = sigma_y(N1)/(1-d_y(N1));\n",
    "\n",
    "u_half(N1-n, m) = d_y(N1-n+1)*u_half(N1-n+1, m) + sigma_y(N1-n+1);\n",
    "\n",
    "end\n",
    "\n",
    "u_half(N1-n, m) = d_y(N1-n+1)*u_half(N1-n+1, m) + sigma_y(N1-n+1);\n",
    "\n",
    "end\n",
    "\n",
    "### Сканируем по y, прогонка по x\n",
    "\n",
    "for n = 2:N1 - 1\n",
    "\n",
    "d_x(1) = 0; sigma_x(1) = 0;\n",
    "\n",
    "### Прогонка по x и переход к конечному слою\n",
    "\n",
    "for m = 1:N2\n",
    "\n",
    "### Индексы - 1 строка, 2 столбец\n",
    "\n",
    "Fm = (h1/h2)^2*(u_half(n+1, m) - 2*u_half(n, m) + u_half(n-1, m)) + 2*h1^2/4/tau*u_half(n, m);\n",
    "\n",
    "d_x(m+1) = B/(C_x - A*d_x(m)); sigma_x(m+1) = (Fm + A*sigma_x(m))/( - A*d_x(m) + C_x);\n",
    "\n",
    "end\n",
    "\n",
    "for m = 1:N2-1\n",
    "\n",
    "### Начинаем разворачивать коэффициенты и находить новый слой\n",
    "\n",
    "u_j1(n,N2) = sigma_x(N2)/(1-d_x(N2));\n",
    "\n",
    "u_j1(n, N2-m) = d_x(N2-m+1)*u_j1(n, N2-m+1) + sigma_x(N2-m+1);\n",
    "\n",
    "end\n",
    "\n",
    "end\n",
    "\n",
    "### Граничные условия\n",
    "\n",
    "for n=1:N1\n",
    "\n",
    "u_j1(n,N1) = u_j1(n,1);\n",
    "\n",
    "u_j1(n,1) = 0;\n",
    "\n",
    "end\n",
    "\n",
    "for m=1:N2\n",
    "\n",
    "u_j1(1,m) = u_j1(2,m);\n",
    "\n",
    "u_j1(N2,m) = u_j1(N2-1,m);\n",
    "\n",
    "u_j1(N1,m) = u_j1(N1-1,m);\n",
    "\n",
    "end\n",
    "\n",
    "u_j = u_j1; -- \n",
    "переход к новому слою\n",
    "\n",
    "### Сохраняем решение\n",
    "\n",
    "u_x(:, t_cnt) = u_j(:, N2/2);\n",
    "\n",
    "t_cnt -- для наблюдения за ходом решения\n",
    "\n",
    "end\n",
    "\n",
    "### Вывод численного решения\n",
    "\n",
    "f3 = figure(3);\n",
    "\n",
    "surf(x_mesh, y_mesh, u_j, 'LineStyle', 'none');\n",
    "\n",
    "title('Численное решение');\n",
    "\n",
    "xlabel('x'); ylabel('y'); zlabel('u');\n",
    "\n",
    "colorbar;\n",
    "\n",
    "axis([0, 10, 0, 5, -0.5, 0.5]);\n",
    "\n",
    "### Вывод ошибки\n",
    "\n",
    "f4 = figure(4);\n",
    "\n",
    "surf(x_mesh, y_mesh, abs(u_j - u0*exp(-20*pi*pi*tN)), 'LineStyle', 'none');\n",
    "\n",
    "title('Невязка');\n",
    "\n",
    "xlabel('x'); ylabel('y'); zlabel('u');\n",
    "\n",
    "colorbar;\n",
    "\n",
    "axis([0, 10, 0, 5, -0.5, 0.5]);"
   ]
  },
  {
   "cell_type": "markdown",
   "metadata": {},
   "source": [
    "## Результаты при шаге = 50\n",
    "![title](50.png)"
   ]
  },
  {
   "cell_type": "markdown",
   "metadata": {},
   "source": [
    "## Результаты при шаге = 100\n",
    "![title](100.png)"
   ]
  },
  {
   "cell_type": "markdown",
   "metadata": {},
   "source": [
    "## Результаты при шаге = 200\n",
    "![title](200.png)"
   ]
  },
  {
   "cell_type": "markdown",
   "metadata": {},
   "source": [
    "## Максимальные значения невязки:\n",
    "$0.1287 - N1,N2,Nt=50$\n",
    "\n",
    "$0.0630 - N1,N2,Nt=100$\n",
    "\n",
    "$0.0312 - N1,N2,Nt=200$"
   ]
  },
  {
   "cell_type": "code",
   "execution_count": null,
   "metadata": {},
   "outputs": [],
   "source": []
  },
  {
   "cell_type": "code",
   "execution_count": null,
   "metadata": {},
   "outputs": [],
   "source": []
  }
 ],
 "metadata": {
  "kernelspec": {
   "display_name": "Python 3",
   "language": "python",
   "name": "python3"
  },
  "language_info": {
   "codemirror_mode": {
    "name": "ipython",
    "version": 3
   },
   "file_extension": ".py",
   "mimetype": "text/x-python",
   "name": "python",
   "nbconvert_exporter": "python",
   "pygments_lexer": "ipython3",
   "version": "3.7.3"
  }
 },
 "nbformat": 4,
 "nbformat_minor": 2
}
